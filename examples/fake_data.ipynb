{
 "cells": [
  {
   "cell_type": "code",
   "execution_count": 1,
   "metadata": {},
   "outputs": [],
   "source": [
    "import numpy as np\n",
    "from pymcaspec import specfile\n",
    "from pymcaspec.utils import (calculate_energy_per_pixel, bin_RIXS, bin_mythen,\n",
    "                             clean_mythen_data,construct_E_M, get_merixE)\n",
    "import matplotlib.pyplot as plt\n",
    "import matplotlib as mpl\n",
    "\n",
    "%matplotlib inline"
   ]
  },
  {
   "cell_type": "markdown",
   "metadata": {},
   "source": [
    "# All parameters here \n",
    "Unless otherwise specified Energy in keV distance in mm"
   ]
  },
  {
   "cell_type": "code",
   "execution_count": 2,
   "metadata": {},
   "outputs": [],
   "source": [
    "# Analyzer related\n",
    "a = 5.4309 # lattice constant Si in Ang\n",
    "d = a/np.sqrt(1**2 + 1**2 + 7**2) # d spacing in Ang\n",
    "\n",
    "analyzer_info = dict(d=d,  # d spacing in Ang\n",
    "                     R=1000, # analyzer radius in mm\n",
    "                     energy_edge=8.333 # resonant energy in keV # 8.3328 online?\n",
    "                     )\n",
    "\n",
    "magicchannel = 1050 #+ 0.5 # should be in 1-1280 indexing\n",
    "min_chan = magicchannel - 29 -1e6\n",
    "max_chan = magicchannel + 30 +1e6\n",
    "threshold = np.inf # throw away values above this\n",
    "\n",
    "monitor = 'i2' # name of monitor to use"
   ]
  },
  {
   "cell_type": "markdown",
   "metadata": {},
   "source": [
    "# Energy per channel"
   ]
  },
  {
   "cell_type": "code",
   "execution_count": 3,
   "metadata": {},
   "outputs": [],
   "source": [
    "energy_per_pixel = calculate_energy_per_pixel(**analyzer_info)"
   ]
  },
  {
   "cell_type": "markdown",
   "metadata": {},
   "source": [
    "# Make fake data"
   ]
  },
  {
   "cell_type": "code",
   "execution_count": 4,
   "metadata": {},
   "outputs": [],
   "source": [
    "central_Es = np.array([8.334, 8.334045, 8.334091, 8.334136, 8.334182, 8.334227,\n",
    "                    8.334273, 8.334318, 8.334364, 8.334409, 8.334455, 8.3345  ,\n",
    "                    8.334545, 8.334591, 8.334636, 8.334682, 8.334727, 8.334773,\n",
    "                    8.334818, 8.334864, 8.334909, 8.334955, 8.335   , 8.335045,\n",
    "                    8.335091, 8.335136, 8.335182, 8.335227, 8.335273, 8.335318,\n",
    "                    8.335364, 8.335409, 8.335455, 8.3355  , 8.335545, 8.335591,\n",
    "                    8.335636, 8.335682, 8.335727, 8.335773, 8.335818, 8.335864,\n",
    "                    8.335909, 8.335955, 8.336   ])\n",
    "\n",
    "central_Ms = np.zeros_like(central_Es)\n",
    "\n",
    "def gauss(E, E0, sigma):\n",
    "    prefac = 1/(sigma*np.sqrt(2*np.pi))\n",
    "    y = prefac * np.exp(-0.5*((E - E0)/sigma)**2 )\n",
    "    return y\n",
    "\n",
    "mythen_dataset = np.zeros((len(central_Es), 1280))\n",
    "\n",
    "refE = 8.33500\n",
    "sigma = 10e-5\n",
    "indices = np.arange(1, 1280+1)\n",
    "\n",
    "for i, central_E in enumerate(central_Es):\n",
    "    energies = (magicchannel-indices)*energy_per_pixel + central_E\n",
    "    y = gauss(energies, refE, sigma)/len(central_Es)\n",
    "    y[indices<min_chan]  = 0\n",
    "    y[indices>max_chan]  = 0\n",
    "    mythen_dataset[i, :] = y\n",
    "\n",
    "# Simple test witih ones assigned to the central energy\n",
    "# mythen_dataset = np.zeros((len(central_Es), 1280))\n",
    "# for i, central_E in enumerate(central_Es):\n",
    "#     ind = int(magicchannel-(refE-central_E)/energy_per_pixel)\n",
    "#     print(ind)\n",
    "#     mythen_dataset[i, ind] = 1"
   ]
  },
  {
   "cell_type": "markdown",
   "metadata": {},
   "source": [
    "# Bin data"
   ]
  },
  {
   "cell_type": "code",
   "execution_count": 5,
   "metadata": {},
   "outputs": [],
   "source": [
    "E, I, M, N = bin_RIXS(central_Es, central_Ms, mythen_dataset,\n",
    "                      magicchannel, energy_per_pixel)"
   ]
  },
  {
   "cell_type": "code",
   "execution_count": 6,
   "metadata": {},
   "outputs": [
    {
     "data": {
      "image/png": "[encoded data removed]",
      "text/plain": [
       "<Figure size 432x288 with 1 Axes>"
      ]
     },
     "metadata": {
      "needs_background": "light"
     },
     "output_type": "display_data"
    }
   ],
   "source": [
    "fig, ax = plt.subplots()\n",
    "\n",
    "ax.plot(E, I, 'o-', label='our_binning')\n",
    "ax.plot(E, gauss(E, refE, sigma), 's-', label='lineshape')\n",
    "\n",
    "#ax.plot(S_processed[0], S_processed['C'], 'x-', label='processed')\n",
    "\n",
    "ax.legend()\n",
    "ax.set_xlabel('Energy (keV)')\n",
    "ax.set_ylabel('Count/monitor')\n",
    "ax.xaxis.set_tick_params(rotation=30)"
   ]
  }
 ],
 "metadata": {
  "kernelspec": {
   "display_name": "Python 3",
   "language": "python",
   "name": "python3"
  },
  "language_info": {
   "codemirror_mode": {
    "name": "ipython",
    "version": 3
   },
   "file_extension": ".py",
   "mimetype": "text/x-python",
   "name": "python",
   "nbconvert_exporter": "python",
   "pygments_lexer": "ipython3",
   "version": "3.7.2"
  }
 },
 "nbformat": 4,
 "nbformat_minor": 4
}
