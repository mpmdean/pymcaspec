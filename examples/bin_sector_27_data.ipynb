{
 "cells": [
  {
   "cell_type": "code",
   "execution_count": 1,
   "metadata": {},
   "outputs": [],
   "source": [
    "import numpy as np\n",
    "from pymcaspec import specfile\n",
    "from pymcaspec.utils import (calculate_dEdChan, bin_RIXS, bin_mythen,\n",
    "                             clean_mythen_data,construct_E_M, get_merixE)\n",
    "import matplotlib.pyplot as plt\n",
    "import matplotlib as mpl\n",
    "\n",
    "%matplotlib nbagg"
   ]
  },
  {
   "cell_type": "markdown",
   "metadata": {},
   "source": [
    "# Define files to read in"
   ]
  },
  {
   "cell_type": "code",
   "execution_count": 2,
   "metadata": {},
   "outputs": [],
   "source": [
    "scan_no = 447\n",
    "filestem = '20March2018'\n",
    "filename = '{}.scan{}.MYT'.format(filestem, scan_no)\n",
    "F = specfile(filename)\n",
    "\n",
    "# The processed file is also read in just for a check\n",
    "F_processed = specfile('{}.spm3'.format(filestem)) "
   ]
  },
  {
   "cell_type": "markdown",
   "metadata": {},
   "source": [
    "# All parameters here \n",
    "Unless otherwise specified Energy in keV distance in mm"
   ]
  },
  {
   "cell_type": "code",
   "execution_count": 3,
   "metadata": {},
   "outputs": [],
   "source": [
    "# Analyzer related\n",
    "a = 5.4309 # lattice constant Si in Ang\n",
    "d = a/np.sqrt(1**2+1**2+7**2) # d spacing in Ang\n",
    "\n",
    "analyzer_info = dict(d=d,  # d spacing in Ang\n",
    "                    R=1000, # analyzer radius in mm\n",
    "                    edgeEn=8.335 # resonant energy in keV\n",
    "                    )\n",
    "\n",
    "magicchannel = 1050\n",
    "min_chan = magicchannel - 29\n",
    "max_chan = magicchannel + 30\n",
    "threshold = 1000 # throw away values above this\n",
    "\n",
    "monitor = 'i2' # name of monitor to use"
   ]
  },
  {
   "cell_type": "markdown",
   "metadata": {},
   "source": [
    "# Use Analyzer properties for Si(8 4 4)\n",
    "to compute energy per channel"
   ]
  },
  {
   "cell_type": "code",
   "execution_count": 4,
   "metadata": {},
   "outputs": [],
   "source": [
    "dEdchan = calculate_dEdChan(**analyzer_info)"
   ]
  },
  {
   "cell_type": "markdown",
   "metadata": {},
   "source": [
    "# Read data"
   ]
  },
  {
   "cell_type": "code",
   "execution_count": 5,
   "metadata": {},
   "outputs": [],
   "source": [
    "mythen_dataset = F.get_all_MCA()\n",
    "central_Es = get_merixE(F)\n",
    "central_Ms = np.array([F[key][monitor][0] for key in F.keys()])\n",
    "S_processed = F_processed[scan_no]"
   ]
  },
  {
   "cell_type": "markdown",
   "metadata": {},
   "source": [
    "# Bad points\n",
    "data assigned to NaN will be ignored"
   ]
  },
  {
   "cell_type": "code",
   "execution_count": 6,
   "metadata": {},
   "outputs": [],
   "source": [
    "mythen_dataset[:5, :] = np.NaN"
   ]
  },
  {
   "cell_type": "code",
   "execution_count": 7,
   "metadata": {},
   "outputs": [
    {
     "name": "stderr",
     "output_type": "stream",
     "text": [
      "/Users/markdean/anaconda3/envs/main/lib/python3.7/site-packages/pymcaspec-0.2-py3.7.egg/pymcaspec/utils.py:102: RuntimeWarning: invalid value encountered in greater\n",
      "  mythen_dataset[mythen_dataset > threshold] = 0\n"
     ]
    }
   ],
   "source": [
    "E, I, M, N = bin_RIXS(central_Es, central_Ms, mythen_dataset,\n",
    "    magicchannel,\n",
    "    dEdchan, min_chan, max_chan, threshold,\n",
    "    binstep=dEdchan)"
   ]
  },
  {
   "cell_type": "code",
   "execution_count": 8,
   "metadata": {},
   "outputs": [
    {
     "data": {
      "text/plain": [
       "Text(0, 0.5, 'Count/monitor')"
      ]
     },
     "execution_count": 8,
     "metadata": {},
     "output_type": "execute_result"
    },
    {
     "data": {
      "image/png": "[encoded data removed]",
      "text/plain": [
       "<Figure size 432x288 with 1 Axes>"
      ]
     },
     "metadata": {
      "needs_background": "light"
     },
     "output_type": "display_data"
    }
   ],
   "source": [
    "fig, ax = plt.subplots()\n",
    "\n",
    "ax.errorbar(E, I/M, np.sqrt(I)/M, fmt='o', label='our_binning')\n",
    "\n",
    "ax.plot(S_processed[0], S_processed['C']/S_processed['M'], 'x', label='processed')\n",
    "\n",
    "ax.legend()\n",
    "ax.set_xlabel('Energy (keV)')\n",
    "ax.set_ylabel('Count/monitor')"
   ]
  },
  {
   "cell_type": "code",
   "execution_count": null,
   "metadata": {},
   "outputs": [],
   "source": []
  },
  {
   "cell_type": "code",
   "execution_count": null,
   "metadata": {},
   "outputs": [],
   "source": []
  }
 ],
 "metadata": {
  "kernelspec": {
   "display_name": "Python 3",
   "language": "python",
   "name": "python3"
  },
  "language_info": {
   "codemirror_mode": {
    "name": "ipython",
    "version": 3
   },
   "file_extension": ".py",
   "mimetype": "text/x-python",
   "name": "python",
   "nbconvert_exporter": "python",
   "pygments_lexer": "ipython3",
   "version": "3.7.3"
  }
 },
 "nbformat": 4,
 "nbformat_minor": 4
}
