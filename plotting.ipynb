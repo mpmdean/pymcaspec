{
 "cells": [
  {
   "cell_type": "code",
   "execution_count": 1,
   "metadata": {},
   "outputs": [],
   "source": [
    "%matplotlib widget"
   ]
  },
  {
   "cell_type": "code",
   "execution_count": 2,
   "metadata": {},
   "outputs": [],
   "source": [
    "import numpy as np\n",
    "import matplotlib as mpl\n",
    "import matplotlib.pyplot as plt\n",
    "mpl.rcParams['lines.marker'] = 'o'\n",
    "from pymcaspec import specfile, get_T_ISR\n",
    "\n",
    "%matplotlib widget"
   ]
  },
  {
   "cell_type": "markdown",
   "metadata": {},
   "source": [
    "Get a scan"
   ]
  },
  {
   "cell_type": "code",
   "execution_count": 3,
   "metadata": {},
   "outputs": [
    {
     "data": {
      "text/plain": [
       "Key: 2.1\n",
       "Scanned Motors are:\n",
       "Two Theta\tH\tK\tL\tEpoch\tSeconds\tDetector3\tattval\tDetcor\tCurrent\ttsam\ttreg\tvtoffs\tnsls\tsca1\tsca2\tsca3\tsca4\tTHR\tSCA1\tSCA2\tMonitor\tDetector\n",
       "Baseline Motors are:\n",
       "Two Theta\tTheta\tChi\tPhi\tOld_phi\tMonoRot\tGammaRot\tGammaTran\tOMSSpare0\tchi2\tFHTrans\tFHROT\tFHLift1\tFHLift2\tFHLift3\tFHLift4\tatth\tath\tV_SLIT\tH_SLIT\tMIRLift1\tMIRLift2\tMIRLift3\tSlitLeft\tMCBSpare0\tSlitRight\tSlitTop\tSlitBottom\tDetSlitLeft\tDetSlitRight\tDetSlitTop\tDetSlitBotom\tPATTH\tPATH\tSpare\tSample_Z\tLTA_act1\tLTA_act2\tLTA_act3\ttbheight\ttbpitch\ttbroll\tmheight\tmpitch\tmroll\n"
      ]
     },
     "execution_count": 3,
     "metadata": {},
     "output_type": "execute_result"
    }
   ],
   "source": [
    "F = specfile('LCOLAO')\n",
    "S = F[2]\n",
    "S"
   ]
  },
  {
   "cell_type": "markdown",
   "metadata": {},
   "source": [
    "Default plotting behavior"
   ]
  },
  {
   "cell_type": "code",
   "execution_count": 4,
   "metadata": {},
   "outputs": [
    {
     "data": {
      "application/vnd.jupyter.widget-view+json": {
       "model_id": "c9ab2fd751b241a38521c01cbde420e2",
       "version_major": 2,
       "version_minor": 0
      },
      "text/plain": [
       "FigureCanvasNbAgg()"
      ]
     },
     "metadata": {},
     "output_type": "display_data"
    },
    {
     "data": {
      "text/plain": [
       "([<matplotlib.lines.Line2D at 0x113c84978>],\n",
       " <matplotlib.axes._subplots.AxesSubplot at 0x1139db898>)"
      ]
     },
     "execution_count": 4,
     "metadata": {},
     "output_type": "execute_result"
    }
   ],
   "source": [
    "S.plot()"
   ]
  },
  {
   "cell_type": "markdown",
   "metadata": {},
   "source": [
    "Changing the behavior"
   ]
  },
  {
   "cell_type": "code",
   "execution_count": 5,
   "metadata": {},
   "outputs": [
    {
     "data": {
      "application/vnd.jupyter.widget-view+json": {
       "model_id": "69de155dd98a484498e016deeb951189",
       "version_major": 2,
       "version_minor": 0
      },
      "text/plain": [
       "FigureCanvasNbAgg()"
      ]
     },
     "metadata": {},
     "output_type": "display_data"
    }
   ],
   "source": [
    "_ = S.plot(xkey='H', ykey='L', marker='s', color='purple', monitor='Seconds', label='check this out')"
   ]
  },
  {
   "cell_type": "code",
   "execution_count": null,
   "metadata": {},
   "outputs": [],
   "source": []
  },
  {
   "cell_type": "code",
   "execution_count": null,
   "metadata": {},
   "outputs": [],
   "source": []
  }
 ],
 "metadata": {
  "kernelspec": {
   "display_name": "Python 3",
   "language": "python",
   "name": "python3"
  },
  "language_info": {
   "codemirror_mode": {
    "name": "ipython",
    "version": 3
   },
   "file_extension": ".py",
   "mimetype": "text/x-python",
   "name": "python",
   "nbconvert_exporter": "python",
   "pygments_lexer": "ipython3",
   "version": "3.7.2"
  }
 },
 "nbformat": 4,
 "nbformat_minor": 2
}
